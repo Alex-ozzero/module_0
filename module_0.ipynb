{
 "cells": [
  {
   "cell_type": "code",
   "execution_count": 68,
   "metadata": {},
   "outputs": [
    {
     "name": "stdout",
     "output_type": "stream",
     "text": [
      "Ваш алгоритм угадывает число в среднем за 5 попыток\n"
     ]
    },
    {
     "data": {
      "text/plain": [
       "5"
      ]
     },
     "execution_count": 68,
     "metadata": {},
     "output_type": "execute_result"
    }
   ],
   "source": [
    "import numpy as np\n",
    "'''Определяем функцию'''\n",
    "def game_core_v3(number):\n",
    "    all_list = [i for i in range (1, 101)] #создаем массив.\n",
    "    low = all_list[0] #определяем меньший элемент массива.\n",
    "    high = all_list[-1] #определяем больший элемент массива.\n",
    "    i = 0\n",
    "    while low <= high: #повторяем пока меньший и больший элемент массива не совпадут.\n",
    "        i+=1\n",
    "        middle = (low+high)//2  #определяем среднее.\n",
    "        if middle > number:\n",
    "            high = middle-1 #если угадываемое число меньше среднего, определяем среднее значение в качестве большего.    \n",
    "        elif middle < number:\n",
    "            low = middle+1  #если угадываемое число больше среднего, определяем среднее значение в качестве меньшего.\n",
    "        else:\n",
    "            break # выход из цикла.\n",
    "    return(i)\n",
    "\n",
    "'''Запускаем игру 1000 раз, чтобы узнать, как быстро игра угадывает число'''\n",
    "def score_game(game_core_v3):\n",
    "    count_ls = []\n",
    "    np.random.seed(1)  # фиксируем RANDOM SEED, чтобы ваш эксперимент был воспроизводим!\n",
    "    random_array = np.random.randint(1,101, size=(1000))\n",
    "    for number in random_array:\n",
    "        count_ls.append(game_core_v3(number))\n",
    "    score = int(np.mean(count_ls))\n",
    "    print(f\"Ваш алгоритм угадывает число в среднем за {score} попыток\")\n",
    "    return(score)\n",
    "\n",
    "score_game(game_core_v3) #Запускаем"
   ]
  },
  {
   "cell_type": "code",
   "execution_count": null,
   "metadata": {},
   "outputs": [],
   "source": []
  }
 ],
 "metadata": {
  "kernelspec": {
   "display_name": "Python 3",
   "language": "python",
   "name": "python3"
  },
  "language_info": {
   "codemirror_mode": {
    "name": "ipython",
    "version": 3
   },
   "file_extension": ".py",
   "mimetype": "text/x-python",
   "name": "python",
   "nbconvert_exporter": "python",
   "pygments_lexer": "ipython3",
   "version": "3.7.6"
  }
 },
 "nbformat": 4,
 "nbformat_minor": 4
}
